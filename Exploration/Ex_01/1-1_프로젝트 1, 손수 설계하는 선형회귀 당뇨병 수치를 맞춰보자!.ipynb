{
 "cells": [
  {
   "cell_type": "markdown",
   "id": "4ff9dbb8",
   "metadata": {},
   "source": [
    "# (1) Load Data"
   ]
  },
  {
   "cell_type": "code",
   "execution_count": 109,
   "id": "fd6870e5",
   "metadata": {},
   "outputs": [],
   "source": [
    "# sklearn.datasets의 load_diabetes에서 데이터를 가져와주세요.\n",
    "from sklearn.datasets import load_diabetes\n",
    "\n",
    "diabetes = load_diabetes()"
   ]
  },
  {
   "cell_type": "code",
   "execution_count": 110,
   "id": "eb47b224",
   "metadata": {},
   "outputs": [],
   "source": [
    "# diabetes의 data를 df_X에, target을 df_y에 저장해주세요.\n",
    "df_X = diabetes.data\n",
    "df_y = diabetes.target"
   ]
  },
  {
   "cell_type": "code",
   "execution_count": 111,
   "id": "3940cfe3",
   "metadata": {},
   "outputs": [
    {
     "data": {
      "text/plain": [
       "((442, 10), (442,))"
      ]
     },
     "execution_count": 111,
     "metadata": {},
     "output_type": "execute_result"
    }
   ],
   "source": [
    "# 저장한 데이터들의 모양\n",
    "df_X.shape, df_y.shape"
   ]
  },
  {
   "cell_type": "markdown",
   "id": "4883e77e",
   "metadata": {},
   "source": [
    "# (2) Prepare X"
   ]
  },
  {
   "cell_type": "code",
   "execution_count": 112,
   "id": "6b92cb17",
   "metadata": {
    "scrolled": true
   },
   "outputs": [
    {
     "data": {
      "text/plain": [
       "array([[ 0.03807591,  0.05068012,  0.06169621, ..., -0.00259226,\n",
       "         0.01990842, -0.01764613],\n",
       "       [-0.00188202, -0.04464164, -0.05147406, ..., -0.03949338,\n",
       "        -0.06832974, -0.09220405],\n",
       "       [ 0.08529891,  0.05068012,  0.04445121, ..., -0.00259226,\n",
       "         0.00286377, -0.02593034],\n",
       "       ...,\n",
       "       [ 0.04170844,  0.05068012, -0.01590626, ..., -0.01107952,\n",
       "        -0.04687948,  0.01549073],\n",
       "       [-0.04547248, -0.04464164,  0.03906215, ...,  0.02655962,\n",
       "         0.04452837, -0.02593034],\n",
       "       [-0.04547248, -0.04464164, -0.0730303 , ..., -0.03949338,\n",
       "        -0.00421986,  0.00306441]])"
      ]
     },
     "execution_count": 112,
     "metadata": {},
     "output_type": "execute_result"
    }
   ],
   "source": [
    "df_X\n",
    "# 이미 numpy array인데?"
   ]
  },
  {
   "cell_type": "markdown",
   "id": "8bc4e940",
   "metadata": {},
   "source": [
    "# (3) Prepare y"
   ]
  },
  {
   "cell_type": "code",
   "execution_count": 113,
   "id": "7f7445bd",
   "metadata": {
    "scrolled": true
   },
   "outputs": [
    {
     "data": {
      "text/plain": [
       "array([151.,  75., 141., 206., 135.,  97., 138.,  63., 110., 310., 101.,\n",
       "        69., 179., 185., 118., 171., 166., 144.,  97., 168.,  68.,  49.,\n",
       "        68., 245., 184., 202., 137.,  85., 131., 283., 129.,  59., 341.,\n",
       "        87.,  65., 102., 265., 276., 252.,  90., 100.,  55.,  61.,  92.,\n",
       "       259.,  53., 190., 142.,  75., 142., 155., 225.,  59., 104., 182.,\n",
       "       128.,  52.,  37., 170., 170.,  61., 144.,  52., 128.,  71., 163.,\n",
       "       150.,  97., 160., 178.,  48., 270., 202., 111.,  85.,  42., 170.,\n",
       "       200., 252., 113., 143.,  51.,  52., 210.,  65., 141.,  55., 134.,\n",
       "        42., 111.,  98., 164.,  48.,  96.,  90., 162., 150., 279.,  92.,\n",
       "        83., 128., 102., 302., 198.,  95.,  53., 134., 144., 232.,  81.,\n",
       "       104.,  59., 246., 297., 258., 229., 275., 281., 179., 200., 200.,\n",
       "       173., 180.,  84., 121., 161.,  99., 109., 115., 268., 274., 158.,\n",
       "       107.,  83., 103., 272.,  85., 280., 336., 281., 118., 317., 235.,\n",
       "        60., 174., 259., 178., 128.,  96., 126., 288.,  88., 292.,  71.,\n",
       "       197., 186.,  25.,  84.,  96., 195.,  53., 217., 172., 131., 214.,\n",
       "        59.,  70., 220., 268., 152.,  47.,  74., 295., 101., 151., 127.,\n",
       "       237., 225.,  81., 151., 107.,  64., 138., 185., 265., 101., 137.,\n",
       "       143., 141.,  79., 292., 178.,  91., 116.,  86., 122.,  72., 129.,\n",
       "       142.,  90., 158.,  39., 196., 222., 277.,  99., 196., 202., 155.,\n",
       "        77., 191.,  70.,  73.,  49.,  65., 263., 248., 296., 214., 185.,\n",
       "        78.,  93., 252., 150.,  77., 208.,  77., 108., 160.,  53., 220.,\n",
       "       154., 259.,  90., 246., 124.,  67.,  72., 257., 262., 275., 177.,\n",
       "        71.,  47., 187., 125.,  78.,  51., 258., 215., 303., 243.,  91.,\n",
       "       150., 310., 153., 346.,  63.,  89.,  50.,  39., 103., 308., 116.,\n",
       "       145.,  74.,  45., 115., 264.,  87., 202., 127., 182., 241.,  66.,\n",
       "        94., 283.,  64., 102., 200., 265.,  94., 230., 181., 156., 233.,\n",
       "        60., 219.,  80.,  68., 332., 248.,  84., 200.,  55.,  85.,  89.,\n",
       "        31., 129.,  83., 275.,  65., 198., 236., 253., 124.,  44., 172.,\n",
       "       114., 142., 109., 180., 144., 163., 147.,  97., 220., 190., 109.,\n",
       "       191., 122., 230., 242., 248., 249., 192., 131., 237.,  78., 135.,\n",
       "       244., 199., 270., 164.,  72.,  96., 306.,  91., 214.,  95., 216.,\n",
       "       263., 178., 113., 200., 139., 139.,  88., 148.,  88., 243.,  71.,\n",
       "        77., 109., 272.,  60.,  54., 221.,  90., 311., 281., 182., 321.,\n",
       "        58., 262., 206., 233., 242., 123., 167.,  63., 197.,  71., 168.,\n",
       "       140., 217., 121., 235., 245.,  40.,  52., 104., 132.,  88.,  69.,\n",
       "       219.,  72., 201., 110.,  51., 277.,  63., 118.,  69., 273., 258.,\n",
       "        43., 198., 242., 232., 175.,  93., 168., 275., 293., 281.,  72.,\n",
       "       140., 189., 181., 209., 136., 261., 113., 131., 174., 257.,  55.,\n",
       "        84.,  42., 146., 212., 233.,  91., 111., 152., 120.,  67., 310.,\n",
       "        94., 183.,  66., 173.,  72.,  49.,  64.,  48., 178., 104., 132.,\n",
       "       220.,  57.])"
      ]
     },
     "execution_count": 113,
     "metadata": {},
     "output_type": "execute_result"
    }
   ],
   "source": [
    "df_y\n",
    "# 이미 numpy array인데?"
   ]
  },
  {
   "cell_type": "markdown",
   "id": "2b0dc16b",
   "metadata": {},
   "source": [
    "# (4) split train, test"
   ]
  },
  {
   "cell_type": "code",
   "execution_count": 114,
   "id": "0c1df538",
   "metadata": {},
   "outputs": [],
   "source": [
    "from sklearn.model_selection import train_test_split"
   ]
  },
  {
   "cell_type": "code",
   "execution_count": 115,
   "id": "a1c4fb64",
   "metadata": {},
   "outputs": [],
   "source": [
    "# x와 y 데이터를 각각 train 데이터와 test 데이터로 분리해주세요.\n",
    "train_x, test_x, train_y, test_y = train_test_split(df_X, df_y, test_size=0.23)"
   ]
  },
  {
   "cell_type": "markdown",
   "id": "f9aae108",
   "metadata": {},
   "source": [
    "# (5) Prepare Model"
   ]
  },
  {
   "cell_type": "code",
   "execution_count": 116,
   "id": "9f5e30c9",
   "metadata": {},
   "outputs": [
    {
     "data": {
      "text/plain": [
       "((10,), (1,))"
      ]
     },
     "execution_count": 116,
     "metadata": {},
     "output_type": "execute_result"
    }
   ],
   "source": [
    "# 입력 데이터 개수에 맞는 가중치 W와 b를 준비해주세요.\n",
    "import numpy as np\n",
    "\n",
    "W = np.random.rand(df_X.shape[1])\n",
    "b = np.random.rand(1)\n",
    "\n",
    "W.shape, b.shape"
   ]
  },
  {
   "cell_type": "code",
   "execution_count": 117,
   "id": "0b587d5b",
   "metadata": {},
   "outputs": [
    {
     "data": {
      "text/plain": [
       "(442,)"
      ]
     },
     "execution_count": 117,
     "metadata": {},
     "output_type": "execute_result"
    }
   ],
   "source": [
    "# 모델 함수를 구현해주세요.\n",
    "def model(X, W, b):\n",
    "    predictions = 0\n",
    "    for i in range(W.shape[0]):\n",
    "        predictions += X[:, i] * W[i]\n",
    "    predictions += b\n",
    "    return predictions\n",
    "\n",
    "model(df_X, W, b).shape"
   ]
  },
  {
   "cell_type": "markdown",
   "id": "9358fae9",
   "metadata": {},
   "source": [
    "# (6) Define loss func"
   ]
  },
  {
   "cell_type": "code",
   "execution_count": 118,
   "id": "992d07f7",
   "metadata": {},
   "outputs": [],
   "source": [
    "# 손실함수를 MSE 함수로 정의해주세요.\n",
    "def MSE(a, b):\n",
    "    mse = ((a - b) ** 2).mean()  # 두 값의 차이의 제곱의 평균\n",
    "    return mse"
   ]
  },
  {
   "cell_type": "code",
   "execution_count": 119,
   "id": "212f55dc",
   "metadata": {},
   "outputs": [
    {
     "data": {
      "text/plain": [
       "28829.919991839724"
      ]
     },
     "execution_count": 119,
     "metadata": {},
     "output_type": "execute_result"
    }
   ],
   "source": [
    "MSE(model(df_X, W, b), df_y)"
   ]
  },
  {
   "cell_type": "markdown",
   "id": "6464e30e",
   "metadata": {},
   "source": [
    "# (7) Define gradient func"
   ]
  },
  {
   "cell_type": "code",
   "execution_count": 120,
   "id": "560faae8",
   "metadata": {},
   "outputs": [],
   "source": [
    "# 기울기를 계산하는 gradient 함수를 구현해주세요.\n",
    "def gradient(X, W, b, y):\n",
    "    # N은 데이터 포인트의 개수\n",
    "    N = len(y)\n",
    "    \n",
    "    # y_pred 준비\n",
    "    y_pred = model(X, W, b)\n",
    "    \n",
    "    # 공식에 맞게 gradient 계산\n",
    "    dW = 1/N * 2 * X.T.dot(y_pred - y)\n",
    "        \n",
    "    # b의 gradient 계산\n",
    "    db = 2 * (y_pred - y).mean()\n",
    "    return dW, db"
   ]
  },
  {
   "cell_type": "code",
   "execution_count": 121,
   "id": "8dec95d1",
   "metadata": {},
   "outputs": [
    {
     "data": {
      "text/plain": [
       "((10,), ())"
      ]
     },
     "execution_count": 121,
     "metadata": {},
     "output_type": "execute_result"
    }
   ],
   "source": [
    "dW, db = gradient(df_X, W, b, df_y)\n",
    "dW.shape, db.shape"
   ]
  },
  {
   "cell_type": "markdown",
   "id": "1be8d2db",
   "metadata": {},
   "source": [
    "# (8) Set hyperparameter"
   ]
  },
  {
   "cell_type": "code",
   "execution_count": 122,
   "id": "e13e2f4c",
   "metadata": {},
   "outputs": [],
   "source": [
    "# 학습률, learning rate를 설정해주세요.\n",
    "LEARNING_RATE = 0.5"
   ]
  },
  {
   "cell_type": "markdown",
   "id": "5b46c71c",
   "metadata": {},
   "source": [
    "# (9) Train model"
   ]
  },
  {
   "cell_type": "code",
   "execution_count": 123,
   "id": "4f3edb75",
   "metadata": {},
   "outputs": [
    {
     "data": {
      "text/plain": [
       "(340, 10)"
      ]
     },
     "execution_count": 123,
     "metadata": {},
     "output_type": "execute_result"
    }
   ],
   "source": [
    "train_x.shape"
   ]
  },
  {
   "cell_type": "code",
   "execution_count": 124,
   "id": "44452406",
   "metadata": {},
   "outputs": [
    {
     "data": {
      "text/plain": [
       "(340,)"
      ]
     },
     "execution_count": 124,
     "metadata": {},
     "output_type": "execute_result"
    }
   ],
   "source": [
    "train_y.shape"
   ]
  },
  {
   "cell_type": "code",
   "execution_count": 125,
   "id": "e690d2a5",
   "metadata": {},
   "outputs": [],
   "source": [
    "def loss(X, W, b, y):\n",
    "    predictions = model(X, W, b)\n",
    "    L = MSE(predictions, y)\n",
    "    return L"
   ]
  },
  {
   "cell_type": "code",
   "execution_count": 126,
   "id": "3ee5209a",
   "metadata": {},
   "outputs": [],
   "source": [
    "N = len(train_y)\n",
    "    \n",
    "# y_pred 준비\n",
    "y_pred = model(train_x, W, b)\n",
    "\n",
    "# 공식에 맞게 gradient 계산\n",
    "dW = 1/N * 2 * train_x.T.dot(y_pred - train_y)\n",
    "\n",
    "# b의 gradient 계산\n",
    "db = 2 * (y_pred - train_y).mean()"
   ]
  },
  {
   "cell_type": "code",
   "execution_count": 127,
   "id": "d29869a0",
   "metadata": {
    "scrolled": true
   },
   "outputs": [
    {
     "data": {
      "text/plain": [
       "(340,)"
      ]
     },
     "execution_count": 127,
     "metadata": {},
     "output_type": "execute_result"
    }
   ],
   "source": [
    "y_pred.shape"
   ]
  },
  {
   "cell_type": "code",
   "execution_count": 128,
   "id": "5e59fbb2",
   "metadata": {
    "scrolled": true
   },
   "outputs": [
    {
     "name": "stdout",
     "output_type": "stream",
     "text": [
      "Iteration 1000 : Loss 2906.0665\n",
      "Iteration 2000 : Loss 2888.7954\n",
      "Iteration 3000 : Loss 2886.9958\n",
      "Iteration 4000 : Loss 2885.8770\n",
      "Iteration 5000 : Loss 2884.8683\n",
      "Iteration 6000 : Loss 2883.9188\n",
      "Iteration 7000 : Loss 2883.0185\n",
      "Iteration 8000 : Loss 2882.1622\n",
      "Iteration 9000 : Loss 2881.3465\n"
     ]
    }
   ],
   "source": [
    "train_x, test_x, train_y, test_y = train_test_split(df_X, df_y, test_size=0.23)\n",
    "\n",
    "LEARNING_RATE = 0.5\n",
    "\n",
    "losses = []\n",
    "\n",
    "W = np.random.rand(df_X.shape[1])\n",
    "b = np.random.rand(1)\n",
    "\n",
    "for i in range(1, 10000):\n",
    "    dW, db = gradient(train_x, W, b, train_y)\n",
    "    W -= LEARNING_RATE * dW\n",
    "    b -= LEARNING_RATE * db\n",
    "    L = loss(train_x, W, b, train_y)\n",
    "    losses.append(L)\n",
    "    if i % 1000 == 0:\n",
    "        print('Iteration %d : Loss %0.4f' % (i, L))"
   ]
  },
  {
   "cell_type": "code",
   "execution_count": 129,
   "id": "0775c082",
   "metadata": {},
   "outputs": [
    {
     "data": {
      "image/png": "[encoded data removed]",
      "text/plain": [
       "<Figure size 432x288 with 1 Axes>"
      ]
     },
     "metadata": {
      "needs_background": "light"
     },
     "output_type": "display_data"
    }
   ],
   "source": [
    "import matplotlib.pyplot as plt\n",
    "plt.plot(losses)\n",
    "plt.show()"
   ]
  },
  {
   "cell_type": "markdown",
   "id": "73e9df4b",
   "metadata": {},
   "source": [
    "# (10) test 데이터에 대한 성능 확인하기"
   ]
  },
  {
   "cell_type": "code",
   "execution_count": 130,
   "id": "8faa4124",
   "metadata": {
    "scrolled": true
   },
   "outputs": [
    {
     "data": {
      "text/plain": [
       "2886.6631868375075"
      ]
     },
     "execution_count": 130,
     "metadata": {},
     "output_type": "execute_result"
    }
   ],
   "source": [
    "predictions = model(test_x, W, b)\n",
    "L = MSE(predictions, test_y)\n",
    "L"
   ]
  },
  {
   "cell_type": "markdown",
   "id": "57c182a6",
   "metadata": {},
   "source": [
    "# (11) 정답 데이터와 예측한 데이터 시각화하기"
   ]
  },
  {
   "cell_type": "code",
   "execution_count": 131,
   "id": "dd44121b",
   "metadata": {},
   "outputs": [
    {
     "data": {
      "image/png": "[encoded data removed]",
      "text/plain": [
       "<Figure size 432x288 with 1 Axes>"
      ]
     },
     "metadata": {
      "needs_background": "light"
     },
     "output_type": "display_data"
    }
   ],
   "source": [
    "plt.scatter(test_x[:, 0], test_y, label='true')\n",
    "plt.scatter(test_x[:, 0], predictions, label='pred')\n",
    "plt.legend()\n",
    "plt.show()"
   ]
  }
 ],
 "metadata": {
  "kernelspec": {
   "display_name": "Python 3 (ipykernel)",
   "language": "python",
   "name": "python3"
  },
  "language_info": {
   "codemirror_mode": {
    "name": "ipython",
    "version": 3
   },
   "file_extension": ".py",
   "mimetype": "text/x-python",
   "name": "python",
   "nbconvert_exporter": "python",
   "pygments_lexer": "ipython3",
   "version": "3.9.7"
  }
 },
 "nbformat": 4,
 "nbformat_minor": 5
}
